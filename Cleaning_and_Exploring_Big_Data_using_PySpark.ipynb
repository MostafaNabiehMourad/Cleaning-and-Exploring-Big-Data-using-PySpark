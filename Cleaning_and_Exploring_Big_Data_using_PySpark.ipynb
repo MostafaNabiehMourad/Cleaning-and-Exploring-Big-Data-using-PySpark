{
  "cells": [
    {
      "cell_type": "code",
      "execution_count": 91,
      "metadata": {
        "colab": {
          "base_uri": "https://localhost:8080/"
        },
        "id": "c1VovUiDZ4kA",
        "outputId": "479c8b1e-caab-492b-aef1-dcbff7137c08"
      },
      "outputs": [
        {
          "output_type": "stream",
          "name": "stdout",
          "text": [
            "Requirement already satisfied: pyspark in /usr/local/lib/python3.7/dist-packages (3.2.1)\n",
            "Requirement already satisfied: py4j==0.10.9.3 in /usr/local/lib/python3.7/dist-packages (from pyspark) (0.10.9.3)\n"
          ]
        }
      ],
      "source": [
        "!pip install pyspark"
      ]
    },
    {
      "cell_type": "code",
      "execution_count": 92,
      "metadata": {
        "colab": {
          "base_uri": "https://localhost:8080/"
        },
        "id": "2SfpwheFZDUe",
        "outputId": "d63cdab0-eff1-4cf0-e1d8-34ad84887d2c"
      },
      "outputs": [
        {
          "output_type": "stream",
          "name": "stdout",
          "text": [
            "--2022-03-01 01:11:28--  https://s3.amazonaws.com/drivendata/data/7/public/4910797b-ee55-40a7-8668-10efd5c1b960.csv\n",
            "Resolving s3.amazonaws.com (s3.amazonaws.com)... 52.216.26.38\n",
            "Connecting to s3.amazonaws.com (s3.amazonaws.com)|52.216.26.38|:443... connected.\n",
            "HTTP request sent, awaiting response... 200 OK\n",
            "Length: 20069199 (19M) [text/csv]\n",
            "Saving to: ‘features.csv’\n",
            "\n",
            "features.csv        100%[===================>]  19.14M  22.4MB/s    in 0.9s    \n",
            "\n",
            "2022-03-01 01:11:29 (22.4 MB/s) - ‘features.csv’ saved [20069199/20069199]\n",
            "\n",
            "--2022-03-01 01:11:29--  https://s3.amazonaws.com/drivendata/data/7/public/0bf8bc6e-30d0-4c50-956a-603fc693d966.csv\n",
            "Resolving s3.amazonaws.com (s3.amazonaws.com)... 52.216.26.38\n",
            "Connecting to s3.amazonaws.com (s3.amazonaws.com)|52.216.26.38|:443... connected.\n",
            "HTTP request sent, awaiting response... 200 OK\n",
            "Length: 1148327 (1.1M) [text/csv]\n",
            "Saving to: ‘labels.csv’\n",
            "\n",
            "labels.csv          100%[===================>]   1.09M  2.99MB/s    in 0.4s    \n",
            "\n",
            "2022-03-01 01:11:30 (2.99 MB/s) - ‘labels.csv’ saved [1148327/1148327]\n",
            "\n"
          ]
        }
      ],
      "source": [
        "!wget https://s3.amazonaws.com/drivendata/data/7/public/4910797b-ee55-40a7-8668-10efd5c1b960.csv -O features.csv\n",
        "!wget https://s3.amazonaws.com/drivendata/data/7/public/0bf8bc6e-30d0-4c50-956a-603fc693d966.csv -O labels.csv"
      ]
    },
    {
      "cell_type": "code",
      "source": [
        "!ls"
      ],
      "metadata": {
        "colab": {
          "base_uri": "https://localhost:8080/"
        },
        "id": "iNosQsYioCMM",
        "outputId": "370d4135-477b-4953-9eb8-5bd56d2c3d5d"
      },
      "execution_count": 93,
      "outputs": [
        {
          "output_type": "stream",
          "name": "stdout",
          "text": [
            "features.csv  labels.csv  sample_data\n"
          ]
        }
      ]
    },
    {
      "cell_type": "code",
      "source": [
        "from pyspark.sql import SparkSession\n",
        "sc = SparkSession.builder.getOrCreate()"
      ],
      "metadata": {
        "id": "nYGWJpr9oJme"
      },
      "execution_count": 94,
      "outputs": []
    },
    {
      "cell_type": "code",
      "source": [
        "df_features = sc.read.csv('/content/features.csv',header=True,inferSchema=True)\n",
        "df_labels = sc.read.csv('/content/labels.csv',header=True,inferSchema=True)"
      ],
      "metadata": {
        "id": "YzTTM3E3oeUU"
      },
      "execution_count": 95,
      "outputs": []
    },
    {
      "cell_type": "code",
      "source": [
        "df_features.count()"
      ],
      "metadata": {
        "colab": {
          "base_uri": "https://localhost:8080/"
        },
        "id": "rqNtxJNMo_8K",
        "outputId": "2e4e8a9f-e598-42cf-fc98-55b23c6de780"
      },
      "execution_count": 96,
      "outputs": [
        {
          "output_type": "execute_result",
          "data": {
            "text/plain": [
              "59400"
            ]
          },
          "metadata": {},
          "execution_count": 96
        }
      ]
    },
    {
      "cell_type": "code",
      "source": [
        "df_labels.count()"
      ],
      "metadata": {
        "colab": {
          "base_uri": "https://localhost:8080/"
        },
        "id": "i-eqUdCkpH39",
        "outputId": "22bdfbcc-924e-46e5-dabb-b826c4f11441"
      },
      "execution_count": 97,
      "outputs": [
        {
          "output_type": "execute_result",
          "data": {
            "text/plain": [
              "59400"
            ]
          },
          "metadata": {},
          "execution_count": 97
        }
      ]
    },
    {
      "cell_type": "code",
      "source": [
        "df_features.printSchema()"
      ],
      "metadata": {
        "colab": {
          "base_uri": "https://localhost:8080/"
        },
        "id": "_It8eEFOpMnu",
        "outputId": "16d18aa1-7a95-43d5-9f6a-889d33655631"
      },
      "execution_count": 98,
      "outputs": [
        {
          "output_type": "stream",
          "name": "stdout",
          "text": [
            "root\n",
            " |-- id: integer (nullable = true)\n",
            " |-- amount_tsh: double (nullable = true)\n",
            " |-- date_recorded: string (nullable = true)\n",
            " |-- funder: string (nullable = true)\n",
            " |-- gps_height: integer (nullable = true)\n",
            " |-- installer: string (nullable = true)\n",
            " |-- longitude: double (nullable = true)\n",
            " |-- latitude: double (nullable = true)\n",
            " |-- wpt_name: string (nullable = true)\n",
            " |-- num_private: integer (nullable = true)\n",
            " |-- basin: string (nullable = true)\n",
            " |-- subvillage: string (nullable = true)\n",
            " |-- region: string (nullable = true)\n",
            " |-- region_code: integer (nullable = true)\n",
            " |-- district_code: integer (nullable = true)\n",
            " |-- lga: string (nullable = true)\n",
            " |-- ward: string (nullable = true)\n",
            " |-- population: integer (nullable = true)\n",
            " |-- public_meeting: boolean (nullable = true)\n",
            " |-- recorded_by: string (nullable = true)\n",
            " |-- scheme_management: string (nullable = true)\n",
            " |-- scheme_name: string (nullable = true)\n",
            " |-- permit: boolean (nullable = true)\n",
            " |-- construction_year: integer (nullable = true)\n",
            " |-- extraction_type: string (nullable = true)\n",
            " |-- extraction_type_group: string (nullable = true)\n",
            " |-- extraction_type_class: string (nullable = true)\n",
            " |-- management: string (nullable = true)\n",
            " |-- management_group: string (nullable = true)\n",
            " |-- payment: string (nullable = true)\n",
            " |-- payment_type: string (nullable = true)\n",
            " |-- water_quality: string (nullable = true)\n",
            " |-- quality_group: string (nullable = true)\n",
            " |-- quantity: string (nullable = true)\n",
            " |-- quantity_group: string (nullable = true)\n",
            " |-- source: string (nullable = true)\n",
            " |-- source_type: string (nullable = true)\n",
            " |-- source_class: string (nullable = true)\n",
            " |-- waterpoint_type: string (nullable = true)\n",
            " |-- waterpoint_type_group: string (nullable = true)\n",
            "\n"
          ]
        }
      ]
    },
    {
      "cell_type": "code",
      "source": [
        "df_labels.printSchema()"
      ],
      "metadata": {
        "colab": {
          "base_uri": "https://localhost:8080/"
        },
        "id": "PwyKM_1xpJ27",
        "outputId": "68c01b83-430a-4f23-f0e0-3316b01f16d0"
      },
      "execution_count": 99,
      "outputs": [
        {
          "output_type": "stream",
          "name": "stdout",
          "text": [
            "root\n",
            " |-- id: integer (nullable = true)\n",
            " |-- status_group: string (nullable = true)\n",
            "\n"
          ]
        }
      ]
    },
    {
      "cell_type": "code",
      "source": [
        "df_features.show()"
      ],
      "metadata": {
        "colab": {
          "base_uri": "https://localhost:8080/"
        },
        "id": "NcNio6jVpVIC",
        "outputId": "b3baa0d3-f63f-4f9b-8242-ad586c2a5405"
      },
      "execution_count": 100,
      "outputs": [
        {
          "output_type": "stream",
          "name": "stdout",
          "text": [
            "+-----+----------+-------------+--------------------+----------+--------------------+-----------+-------------------+--------------------+-----------+--------------------+---------------+-----------+-----------+-------------+----------------+--------------+----------+--------------+--------------------+-----------------+--------------------+------+-----------------+---------------+---------------------+---------------------+----------------+----------------+--------------------+------------+-------------+-------------+------------+--------------+--------------------+--------------------+------------+--------------------+---------------------+\n",
            "|   id|amount_tsh|date_recorded|              funder|gps_height|           installer|  longitude|           latitude|            wpt_name|num_private|               basin|     subvillage|     region|region_code|district_code|             lga|          ward|population|public_meeting|         recorded_by|scheme_management|         scheme_name|permit|construction_year|extraction_type|extraction_type_group|extraction_type_class|      management|management_group|             payment|payment_type|water_quality|quality_group|    quantity|quantity_group|              source|         source_type|source_class|     waterpoint_type|waterpoint_type_group|\n",
            "+-----+----------+-------------+--------------------+----------+--------------------+-----------+-------------------+--------------------+-----------+--------------------+---------------+-----------+-----------+-------------+----------------+--------------+----------+--------------+--------------------+-----------------+--------------------+------+-----------------+---------------+---------------------+---------------------+----------------+----------------+--------------------+------------+-------------+-------------+------------+--------------+--------------------+--------------------+------------+--------------------+---------------------+\n",
            "|69572|    6000.0|   2011-03-14|               Roman|      1390|               Roman|34.93809275|        -9.85632177|                none|          0|          Lake Nyasa|       Mnyusi B|     Iringa|         11|            5|          Ludewa|      Mundindi|       109|          true|GeoData Consultan...|              VWC|               Roman| false|             1999|        gravity|              gravity|              gravity|             vwc|      user-group|        pay annually|    annually|         soft|         good|      enough|        enough|              spring|              spring| groundwater|  communal standpipe|   communal standpipe|\n",
            "| 8776|       0.0|   2013-03-06|             Grumeti|      1399|             GRUMETI| 34.6987661|        -2.14746569|            Zahanati|          0|       Lake Victoria|        Nyamara|       Mara|         20|            2|       Serengeti|         Natta|       280|          null|GeoData Consultan...|            Other|                null|  true|             2010|        gravity|              gravity|              gravity|             wug|      user-group|           never pay|   never pay|         soft|         good|insufficient|  insufficient|rainwater harvesting|rainwater harvesting|     surface|  communal standpipe|   communal standpipe|\n",
            "|34310|      25.0|   2013-02-25|        Lottery Club|       686|        World vision|37.46066446|        -3.82132853|         Kwa Mahundi|          0|             Pangani|        Majengo|    Manyara|         21|            4|       Simanjiro|       Ngorika|       250|          true|GeoData Consultan...|              VWC|Nyumba ya mungu p...|  true|             2009|        gravity|              gravity|              gravity|             vwc|      user-group|      pay per bucket|  per bucket|         soft|         good|      enough|        enough|                 dam|                 dam|     surface|communal standpip...|   communal standpipe|\n",
            "|67743|       0.0|   2013-01-28|              Unicef|       263|              UNICEF|38.48616088|       -11.15529772|Zahanati Ya Nanyumbu|          0|Ruvuma / Southern...|     Mahakamani|     Mtwara|         90|           63|        Nanyumbu|      Nanyumbu|        58|          true|GeoData Consultan...|              VWC|                null|  true|             1986|    submersible|          submersible|          submersible|             vwc|      user-group|           never pay|   never pay|         soft|         good|         dry|           dry|         machine dbh|            borehole| groundwater|communal standpip...|   communal standpipe|\n",
            "|19728|       0.0|   2011-07-13|         Action In A|         0|             Artisan|31.13084671|        -1.82535885|             Shuleni|          0|       Lake Victoria|     Kyanyamisa|     Kagera|         18|            1|         Karagwe|    Nyakasimbi|         0|          true|GeoData Consultan...|             null|                null|  true|                0|        gravity|              gravity|              gravity|           other|           other|           never pay|   never pay|         soft|         good|    seasonal|      seasonal|rainwater harvesting|rainwater harvesting|     surface|  communal standpipe|   communal standpipe|\n",
            "| 9944|      20.0|   2011-03-13| Mkinga Distric Coun|         0|                 DWE| 39.1727956|        -4.76558728|              Tajiri|          0|             Pangani|    Moa/Mwereme|      Tanga|          4|            8|          Mkinga|           Moa|         1|          true|GeoData Consultan...|              VWC|           Zingibali|  true|             2009|    submersible|          submersible|          submersible|             vwc|      user-group|      pay per bucket|  per bucket|        salty|        salty|      enough|        enough|               other|               other|     unknown|communal standpip...|   communal standpipe|\n",
            "|19816|       0.0|   2012-10-01|                Dwsp|         0|                DWSP|33.36240982|        -3.76636472|          Kwa Ngomho|          0|            Internal|  Ishinabulandi|  Shinyanga|         17|            3| Shinyanga Rural|        Samuye|         0|          true|GeoData Consultan...|              VWC|                null|  true|                0|         swn 80|               swn 80|             handpump|             vwc|      user-group|           never pay|   never pay|         soft|         good|      enough|        enough|         machine dbh|            borehole| groundwater|           hand pump|            hand pump|\n",
            "|54551|       0.0|   2012-10-09|               Rwssp|         0|                 DWE|32.62061707|        -4.22619802|        Tushirikiane|          0|     Lake Tanganyika|Nyawishi Center|  Shinyanga|         17|            3|          Kahama|        Chambo|         0|          true|GeoData Consultan...|             null|                null|  true|                0|    nira/tanira|          nira/tanira|             handpump|             wug|      user-group|             unknown|     unknown|        milky|        milky|      enough|        enough|        shallow well|        shallow well| groundwater|           hand pump|            hand pump|\n",
            "|53934|       0.0|   2012-11-03|            Wateraid|         0|           Water Aid|32.71110001|        -5.14671181|   Kwa Ramadhan Musa|          0|     Lake Tanganyika|     Imalauduki|     Tabora|         14|            6|    Tabora Urban|      Itetemia|         0|          true|GeoData Consultan...|              VWC|                null|  true|                0|  india mark ii|        india mark ii|             handpump|             vwc|      user-group|           never pay|   never pay|        salty|        salty|    seasonal|      seasonal|         machine dbh|            borehole| groundwater|           hand pump|            hand pump|\n",
            "|46144|       0.0|   2011-08-03|         Isingiro Ho|         0|             Artisan|30.62699053|        -1.25705061|             Kwapeto|          0|       Lake Victoria|       Mkonomre|     Kagera|         18|            1|         Karagwe|        Kaisho|         0|          true|GeoData Consultan...|             null|                null|  true|                0|    nira/tanira|          nira/tanira|             handpump|             vwc|      user-group|           never pay|   never pay|         soft|         good|      enough|        enough|        shallow well|        shallow well| groundwater|           hand pump|            hand pump|\n",
            "|49056|       0.0|   2011-02-20|             Private|        62|             Private|39.20951812|        -7.03413939|       Mzee Hokororo|          0|         Wami / Ruvu|         Mizugo|      Pwani|         60|           43|        Mkuranga|       Tambani|       345|          true|GeoData Consultan...| Private operator|                null| false|             2011|    submersible|          submersible|          submersible|private operator|      commercial|           never pay|   never pay|        salty|        salty|      enough|        enough|         machine dbh|            borehole| groundwater|               other|                other|\n",
            "|50409|     200.0|   2013-02-18|              Danida|      1062|              DANIDA|35.77025785|       -10.57417468|    Kwa Alid Nchimbi|          0|          Lake Nyasa|   Ngondombwito|     Ruvuma|         10|            5|        Namtumbo|        Msindo|       250|          true|GeoData Consultan...|              WUG|                null| false|             1987|         swn 80|               swn 80|             handpump|             wug|      user-group|pay when scheme f...|  on failure|         soft|         good|insufficient|  insufficient|        shallow well|        shallow well| groundwater|           hand pump|            hand pump|\n",
            "|36957|       0.0|   2012-10-14|        World Vision|         0|        World vision|33.79810612|-3.2901937999999995|               Pamba|          0|            Internal|        Nkilifa|  Shinyanga|         17|            2|           Maswa|      Busilili|         0|          true|GeoData Consultan...|              WUG|                null| false|                0|    nira/tanira|          nira/tanira|             handpump|             wug|      user-group|               other|       other|         soft|         good|      enough|        enough|        shallow well|        shallow well| groundwater|           hand pump|            hand pump|\n",
            "|50495|       0.0|   2013-03-15|Lawatefuka Water ...|      1368|Lawatefuka water sup|37.09257412|-3.1817832999999998|Kwa John Izack Mmari|          0|             Pangani|        Omarini|Kilimanjaro|          3|            7|            Siha|Siha Kaskazini|         1|          true|GeoData Consultan...|      Water Board|          BL Bondeni|  true|             2009|        gravity|              gravity|              gravity|     water board|      user-group|         pay monthly|     monthly|         soft|         good|      enough|        enough|              spring|              spring| groundwater|  communal standpipe|   communal standpipe|\n",
            "|53752|       0.0|   2012-10-20|               Biore|         0|              WEDECO|34.36407268|        -3.62933335|           Mwabasabi|          0|            Internal|      Mwabasabi|  Shinyanga|         17|            6|           Meatu|         Nkoma|         0|          true|GeoData Consultan...|              WUG|                None|  true|                0|    nira/tanira|          nira/tanira|             handpump|             wug|      user-group|           never pay|   never pay|         soft|         good|      enough|        enough|        shallow well|        shallow well| groundwater|           hand pump|            hand pump|\n",
            "|61848|       0.0|   2011-08-04|               Rudep|      1645|                 DWE|31.44412134|        -8.27496163|Kwa Juvenal Ching...|          0|     Lake Tanganyika|          Tunzi|      Rukwa|         15|            2|Sumbawanga Rural|         Mkowe|       200|          true|GeoData Consultan...|              VWC|                null| false|             1991|         swn 80|               swn 80|             handpump|             vwc|      user-group|           never pay|   never pay|         soft|         good|      enough|        enough|         machine dbh|            borehole| groundwater|           hand pump|            hand pump|\n",
            "|48451|     500.0|   2011-07-04|              Unicef|      1703|                 DWE|34.64243884|        -9.10618458|     Kwa John Mtenzi|          0|              Rufiji|       Kidudumo|     Iringa|         11|            4|          Njombe|        Mdandu|        35|          true|GeoData Consultan...|              WUA|wanging'ombe wate...|  true|             1978|        gravity|              gravity|              gravity|             wua|      user-group|         pay monthly|     monthly|         soft|         good|         dry|           dry|               river|          river/lake|     surface|  communal standpipe|   communal standpipe|\n",
            "|58155|       0.0|   2011-09-04|              Unicef|      1656|                 DWE|34.56926611|        -9.08551497|     Kwa Rose Chaula|          0|              Rufiji|         Yeriko|     Iringa|         11|            4|          Njombe|         Usuka|        50|          true|GeoData Consultan...|              WUA|wanging'ombe wate...|  true|             1978|        gravity|              gravity|              gravity|             wua|      user-group|pay when scheme f...|  on failure|         soft|         good|         dry|           dry|               river|          river/lake|     surface|  communal standpipe|   communal standpipe|\n",
            "|34169|       0.0|   2011-07-22|              Hesawa|      1162|                 DWE|32.92015381|        -1.94786801|              Ngomee|          0|       Lake Victoria|         Center|     Mwanza|         19|            1|         Ukerewe|      Ilangala|      1000|          null|GeoData Consultan...|             null|                null|  true|             1999|          other|                other|                other|             vwc|      user-group|           never pay|   never pay|        milky|        milky|insufficient|  insufficient|              spring|              spring| groundwater|               other|                other|\n",
            "|18274|     500.0|   2011-02-22|              Danida|      1763|               Danid|34.50896732|         -9.8944125|                none|          0|          Lake Nyasa|       Manyanya|     Iringa|         11|            5|          Ludewa|       Mawengi|         1|          true|GeoData Consultan...|              VWC|              Makanj|  true|             1992|        gravity|              gravity|              gravity|             vwc|      user-group|        pay annually|    annually|         soft|         good|      enough|        enough|              spring|              spring| groundwater|  communal standpipe|   communal standpipe|\n",
            "+-----+----------+-------------+--------------------+----------+--------------------+-----------+-------------------+--------------------+-----------+--------------------+---------------+-----------+-----------+-------------+----------------+--------------+----------+--------------+--------------------+-----------------+--------------------+------+-----------------+---------------+---------------------+---------------------+----------------+----------------+--------------------+------------+-------------+-------------+------------+--------------+--------------------+--------------------+------------+--------------------+---------------------+\n",
            "only showing top 20 rows\n",
            "\n"
          ]
        }
      ]
    },
    {
      "cell_type": "code",
      "source": [
        "df_labels.show()"
      ],
      "metadata": {
        "colab": {
          "base_uri": "https://localhost:8080/"
        },
        "id": "Yo27rw4DpovR",
        "outputId": "d2aad3df-ff8f-4bad-b12c-0907c52c64f4"
      },
      "execution_count": 101,
      "outputs": [
        {
          "output_type": "stream",
          "name": "stdout",
          "text": [
            "+-----+--------------------+\n",
            "|   id|        status_group|\n",
            "+-----+--------------------+\n",
            "|69572|          functional|\n",
            "| 8776|          functional|\n",
            "|34310|          functional|\n",
            "|67743|      non functional|\n",
            "|19728|          functional|\n",
            "| 9944|          functional|\n",
            "|19816|      non functional|\n",
            "|54551|      non functional|\n",
            "|53934|      non functional|\n",
            "|46144|          functional|\n",
            "|49056|          functional|\n",
            "|50409|          functional|\n",
            "|36957|          functional|\n",
            "|50495|          functional|\n",
            "|53752|          functional|\n",
            "|61848|          functional|\n",
            "|48451|      non functional|\n",
            "|58155|      non functional|\n",
            "|34169|functional needs ...|\n",
            "|18274|          functional|\n",
            "+-----+--------------------+\n",
            "only showing top 20 rows\n",
            "\n"
          ]
        }
      ]
    },
    {
      "cell_type": "code",
      "execution_count": 102,
      "metadata": {
        "colab": {
          "base_uri": "https://localhost:8080/"
        },
        "id": "suFqUNKDaFeo",
        "outputId": "0ac8ba7f-b214-46b8-da11-41f9276f1f28"
      },
      "outputs": [
        {
          "output_type": "execute_result",
          "data": {
            "text/plain": [
              "['id',\n",
              " 'amount_tsh',\n",
              " 'date_recorded',\n",
              " 'funder',\n",
              " 'gps_height',\n",
              " 'installer',\n",
              " 'longitude',\n",
              " 'latitude',\n",
              " 'wpt_name',\n",
              " 'num_private',\n",
              " 'basin',\n",
              " 'subvillage',\n",
              " 'region',\n",
              " 'region_code',\n",
              " 'district_code',\n",
              " 'lga',\n",
              " 'ward',\n",
              " 'population',\n",
              " 'public_meeting',\n",
              " 'recorded_by',\n",
              " 'scheme_management',\n",
              " 'scheme_name',\n",
              " 'permit',\n",
              " 'construction_year',\n",
              " 'extraction_type',\n",
              " 'extraction_type_group',\n",
              " 'extraction_type_class',\n",
              " 'management',\n",
              " 'management_group',\n",
              " 'payment',\n",
              " 'payment_type',\n",
              " 'water_quality',\n",
              " 'quality_group',\n",
              " 'quantity',\n",
              " 'quantity_group',\n",
              " 'source',\n",
              " 'source_type',\n",
              " 'source_class',\n",
              " 'waterpoint_type',\n",
              " 'waterpoint_type_group',\n",
              " 'status_group']"
            ]
          },
          "metadata": {},
          "execution_count": 102
        }
      ],
      "source": [
        "data = df_features.join(df_labels,on='id')\n",
        "data.columns"
      ]
    },
    {
      "cell_type": "markdown",
      "metadata": {
        "id": "hnsaioREeIOJ"
      },
      "source": [
        "Task 2 - Change column type, drop duplicated rows, remove whitespacs. If you are disconnected, please run the previous cells by clicking on this cell, going to Runtime, then clicking Run before."
      ]
    },
    {
      "cell_type": "code",
      "execution_count": 103,
      "metadata": {
        "colab": {
          "base_uri": "https://localhost:8080/"
        },
        "id": "2XcgZ9FT7f-G",
        "outputId": "175801a9-449c-4607-813b-6ff788370589"
      },
      "outputs": [
        {
          "output_type": "stream",
          "name": "stdout",
          "text": [
            "root\n",
            " |-- id: integer (nullable = true)\n",
            " |-- amount_tsh: double (nullable = true)\n",
            " |-- date_recorded: string (nullable = true)\n",
            " |-- funder: string (nullable = true)\n",
            " |-- gps_height: integer (nullable = true)\n",
            " |-- installer: string (nullable = true)\n",
            " |-- longitude: double (nullable = true)\n",
            " |-- latitude: double (nullable = true)\n",
            " |-- wpt_name: string (nullable = true)\n",
            " |-- num_private: integer (nullable = true)\n",
            " |-- basin: string (nullable = true)\n",
            " |-- subvillage: string (nullable = true)\n",
            " |-- region: string (nullable = true)\n",
            " |-- region_code: integer (nullable = true)\n",
            " |-- district_code: integer (nullable = true)\n",
            " |-- lga: string (nullable = true)\n",
            " |-- ward: string (nullable = true)\n",
            " |-- population: integer (nullable = true)\n",
            " |-- public_meeting: boolean (nullable = true)\n",
            " |-- recorded_by: string (nullable = true)\n",
            " |-- scheme_management: string (nullable = true)\n",
            " |-- scheme_name: string (nullable = true)\n",
            " |-- permit: boolean (nullable = true)\n",
            " |-- construction_year: integer (nullable = true)\n",
            " |-- extraction_type: string (nullable = true)\n",
            " |-- extraction_type_group: string (nullable = true)\n",
            " |-- extraction_type_class: string (nullable = true)\n",
            " |-- management: string (nullable = true)\n",
            " |-- management_group: string (nullable = true)\n",
            " |-- payment: string (nullable = true)\n",
            " |-- payment_type: string (nullable = true)\n",
            " |-- water_quality: string (nullable = true)\n",
            " |-- quality_group: string (nullable = true)\n",
            " |-- quantity: string (nullable = true)\n",
            " |-- quantity_group: string (nullable = true)\n",
            " |-- source: string (nullable = true)\n",
            " |-- source_type: string (nullable = true)\n",
            " |-- source_class: string (nullable = true)\n",
            " |-- waterpoint_type: string (nullable = true)\n",
            " |-- waterpoint_type_group: string (nullable = true)\n",
            " |-- status_group: string (nullable = true)\n",
            "\n"
          ]
        }
      ],
      "source": [
        "data.printSchema()"
      ]
    },
    {
      "cell_type": "code",
      "execution_count": 104,
      "metadata": {
        "id": "Hiz2yMf27fla"
      },
      "outputs": [],
      "source": [
        "from pyspark.sql.functions import col\n",
        "data = data.withColumn('region',col('region').cast('string'))\\\n",
        "           .withColumn('district_code',col('district_code').cast('string'))"
      ]
    },
    {
      "cell_type": "code",
      "execution_count": 105,
      "metadata": {
        "colab": {
          "base_uri": "https://localhost:8080/"
        },
        "id": "qLDXbAsx_53W",
        "outputId": "b4e0da54-f85f-4270-d403-90c3b8d78553"
      },
      "outputs": [
        {
          "output_type": "stream",
          "name": "stdout",
          "text": [
            "root\n",
            " |-- id: integer (nullable = true)\n",
            " |-- amount_tsh: double (nullable = true)\n",
            " |-- date_recorded: string (nullable = true)\n",
            " |-- funder: string (nullable = true)\n",
            " |-- gps_height: integer (nullable = true)\n",
            " |-- installer: string (nullable = true)\n",
            " |-- longitude: double (nullable = true)\n",
            " |-- latitude: double (nullable = true)\n",
            " |-- wpt_name: string (nullable = true)\n",
            " |-- num_private: integer (nullable = true)\n",
            " |-- basin: string (nullable = true)\n",
            " |-- subvillage: string (nullable = true)\n",
            " |-- region: string (nullable = true)\n",
            " |-- region_code: integer (nullable = true)\n",
            " |-- district_code: string (nullable = true)\n",
            " |-- lga: string (nullable = true)\n",
            " |-- ward: string (nullable = true)\n",
            " |-- population: integer (nullable = true)\n",
            " |-- public_meeting: boolean (nullable = true)\n",
            " |-- recorded_by: string (nullable = true)\n",
            " |-- scheme_management: string (nullable = true)\n",
            " |-- scheme_name: string (nullable = true)\n",
            " |-- permit: boolean (nullable = true)\n",
            " |-- construction_year: integer (nullable = true)\n",
            " |-- extraction_type: string (nullable = true)\n",
            " |-- extraction_type_group: string (nullable = true)\n",
            " |-- extraction_type_class: string (nullable = true)\n",
            " |-- management: string (nullable = true)\n",
            " |-- management_group: string (nullable = true)\n",
            " |-- payment: string (nullable = true)\n",
            " |-- payment_type: string (nullable = true)\n",
            " |-- water_quality: string (nullable = true)\n",
            " |-- quality_group: string (nullable = true)\n",
            " |-- quantity: string (nullable = true)\n",
            " |-- quantity_group: string (nullable = true)\n",
            " |-- source: string (nullable = true)\n",
            " |-- source_type: string (nullable = true)\n",
            " |-- source_class: string (nullable = true)\n",
            " |-- waterpoint_type: string (nullable = true)\n",
            " |-- waterpoint_type_group: string (nullable = true)\n",
            " |-- status_group: string (nullable = true)\n",
            "\n"
          ]
        }
      ],
      "source": [
        "data.printSchema()"
      ]
    },
    {
      "cell_type": "code",
      "execution_count": 106,
      "metadata": {
        "colab": {
          "base_uri": "https://localhost:8080/"
        },
        "id": "L5dRfsxh7fMn",
        "outputId": "f5ac8d2c-c83c-4ca5-d520-fec4c326dd45"
      },
      "outputs": [
        {
          "output_type": "execute_result",
          "data": {
            "text/plain": [
              "59400"
            ]
          },
          "metadata": {},
          "execution_count": 106
        }
      ],
      "source": [
        "data = data.drop_duplicates()\n",
        "data.count()"
      ]
    },
    {
      "cell_type": "code",
      "execution_count": 107,
      "metadata": {
        "colab": {
          "base_uri": "https://localhost:8080/"
        },
        "id": "EcfYuB-ru9G9",
        "outputId": "0f85fec6-2505-42d4-9fa0-a1a9db928b59"
      },
      "outputs": [
        {
          "output_type": "execute_result",
          "data": {
            "text/plain": [
              "{'amount_tsh': 0,\n",
              " 'basin': 0,\n",
              " 'construction_year': 0,\n",
              " 'date_recorded': 0,\n",
              " 'district_code': 0,\n",
              " 'extraction_type': 0,\n",
              " 'extraction_type_class': 0,\n",
              " 'extraction_type_group': 0,\n",
              " 'funder': 3635,\n",
              " 'gps_height': 0,\n",
              " 'id': 0,\n",
              " 'installer': 3655,\n",
              " 'latitude': 0,\n",
              " 'lga': 0,\n",
              " 'longitude': 0,\n",
              " 'management': 0,\n",
              " 'management_group': 0,\n",
              " 'num_private': 0,\n",
              " 'payment': 0,\n",
              " 'payment_type': 0,\n",
              " 'permit': 3056,\n",
              " 'population': 0,\n",
              " 'public_meeting': 3334,\n",
              " 'quality_group': 0,\n",
              " 'quantity': 0,\n",
              " 'quantity_group': 0,\n",
              " 'recorded_by': 0,\n",
              " 'region': 0,\n",
              " 'region_code': 0,\n",
              " 'scheme_management': 3877,\n",
              " 'scheme_name': 28166,\n",
              " 'source': 0,\n",
              " 'source_class': 0,\n",
              " 'source_type': 0,\n",
              " 'status_group': 0,\n",
              " 'subvillage': 371,\n",
              " 'ward': 0,\n",
              " 'water_quality': 0,\n",
              " 'waterpoint_type': 0,\n",
              " 'waterpoint_type_group': 0,\n",
              " 'wpt_name': 0}"
            ]
          },
          "metadata": {},
          "execution_count": 107
        }
      ],
      "source": [
        "from pyspark.sql.functions import isnan, when, count, col\n",
        "\n",
        "Dict_Null  = {col:data.filter(data[col].isNull()).count() for col in data.columns}\n",
        "Dict_Null "
      ]
    },
    {
      "cell_type": "code",
      "source": [
        "type(Dict_Null)"
      ],
      "metadata": {
        "colab": {
          "base_uri": "https://localhost:8080/"
        },
        "id": "eFUf3f5sVLTb",
        "outputId": "02139fe0-287b-4178-9700-0f74f166ca7e"
      },
      "execution_count": 108,
      "outputs": [
        {
          "output_type": "execute_result",
          "data": {
            "text/plain": [
              "dict"
            ]
          },
          "metadata": {},
          "execution_count": 108
        }
      ]
    },
    {
      "cell_type": "code",
      "source": [
        "ls = []\n",
        "for key,value in Dict_Null.items():\n",
        "  if value >0:\n",
        "    ls.append(key)"
      ],
      "metadata": {
        "id": "yjEUhU-XygGe"
      },
      "execution_count": 109,
      "outputs": []
    },
    {
      "cell_type": "code",
      "source": [
        "ls"
      ],
      "metadata": {
        "colab": {
          "base_uri": "https://localhost:8080/"
        },
        "id": "aQ-_VgB7yvaC",
        "outputId": "78dfc4e5-d854-411a-92d7-a4483bfe9499"
      },
      "execution_count": 110,
      "outputs": [
        {
          "output_type": "execute_result",
          "data": {
            "text/plain": [
              "['funder',\n",
              " 'installer',\n",
              " 'subvillage',\n",
              " 'public_meeting',\n",
              " 'scheme_management',\n",
              " 'scheme_name',\n",
              " 'permit']"
            ]
          },
          "metadata": {},
          "execution_count": 110
        }
      ]
    },
    {
      "cell_type": "markdown",
      "metadata": {
        "id": "xN4Y2cJp7s5z"
      },
      "source": [
        "Task 3 - Remove columns with null values more than a threshold. If you are disconnected, please run the previous cells by clicking on this cell, going to Runtime, then clicking Run before."
      ]
    },
    {
      "cell_type": "code",
      "execution_count": 111,
      "metadata": {
        "id": "SGdEdHici0Zq",
        "colab": {
          "base_uri": "https://localhost:8080/"
        },
        "outputId": "268fa6da-1aa3-482f-aeb8-9c037502984c"
      },
      "outputs": [
        {
          "output_type": "execute_result",
          "data": {
            "text/plain": [
              "{'amount_tsh': 0,\n",
              " 'basin': 0,\n",
              " 'construction_year': 0,\n",
              " 'date_recorded': 0,\n",
              " 'district_code': 0,\n",
              " 'extraction_type': 0,\n",
              " 'extraction_type_class': 0,\n",
              " 'extraction_type_group': 0,\n",
              " 'funder': 3635,\n",
              " 'gps_height': 0,\n",
              " 'id': 0,\n",
              " 'installer': 3655,\n",
              " 'latitude': 0,\n",
              " 'lga': 0,\n",
              " 'longitude': 0,\n",
              " 'management': 0,\n",
              " 'management_group': 0,\n",
              " 'num_private': 0,\n",
              " 'payment': 0,\n",
              " 'payment_type': 0,\n",
              " 'permit': 3056,\n",
              " 'population': 0,\n",
              " 'public_meeting': 3334,\n",
              " 'quality_group': 0,\n",
              " 'quantity': 0,\n",
              " 'quantity_group': 0,\n",
              " 'recorded_by': 0,\n",
              " 'region': 0,\n",
              " 'region_code': 0,\n",
              " 'scheme_management': 3877,\n",
              " 'scheme_name': 28166,\n",
              " 'source': 0,\n",
              " 'source_class': 0,\n",
              " 'source_type': 0,\n",
              " 'status_group': 0,\n",
              " 'subvillage': 371,\n",
              " 'ward': 0,\n",
              " 'water_quality': 0,\n",
              " 'waterpoint_type': 0,\n",
              " 'waterpoint_type_group': 0,\n",
              " 'wpt_name': 0}"
            ]
          },
          "metadata": {},
          "execution_count": 111
        }
      ],
      "source": [
        "for i in ls:\n",
        "  data.drop_duplicates([i])\n",
        "{col:data.filter(data[col].isNull()).count() for col in data.columns}"
      ]
    },
    {
      "cell_type": "markdown",
      "metadata": {
        "id": "KmpQmfp4uEy4"
      },
      "source": [
        "Task 4 - Group, aggregate, create pivot table. If you are disconnected, please run the previous cells by clicking on this cell, going to Runtime, then clicking Run before."
      ]
    },
    {
      "cell_type": "code",
      "source": [
        "type(data)"
      ],
      "metadata": {
        "colab": {
          "base_uri": "https://localhost:8080/"
        },
        "id": "plNDCd4Sb1b0",
        "outputId": "359955e3-d98b-4176-cf59-699355c50b64"
      },
      "execution_count": 112,
      "outputs": [
        {
          "output_type": "execute_result",
          "data": {
            "text/plain": [
              "pyspark.sql.dataframe.DataFrame"
            ]
          },
          "metadata": {},
          "execution_count": 112
        }
      ]
    },
    {
      "cell_type": "code",
      "execution_count": 113,
      "metadata": {
        "id": "HUsdgoahiEXd",
        "colab": {
          "base_uri": "https://localhost:8080/"
        },
        "outputId": "a25ff7ee-2167-4f20-b5a1-9448ee4c4299"
      },
      "outputs": [
        {
          "output_type": "stream",
          "name": "stdout",
          "text": [
            "+--------------------+-----+\n",
            "|         recorded_by|count|\n",
            "+--------------------+-----+\n",
            "|GeoData Consultan...|59400|\n",
            "+--------------------+-----+\n",
            "\n"
          ]
        }
      ],
      "source": [
        "data.groupby('recorded_by').count().show()"
      ]
    },
    {
      "cell_type": "code",
      "execution_count": 114,
      "metadata": {
        "id": "A7zeDN1cx9oP",
        "colab": {
          "base_uri": "https://localhost:8080/"
        },
        "outputId": "0362ef9e-2403-4345-d82c-b9a10df88900"
      },
      "outputs": [
        {
          "output_type": "stream",
          "name": "stdout",
          "text": [
            "+------------------+-----+\n",
            "|     water_quality|count|\n",
            "+------------------+-----+\n",
            "|              soft|50818|\n",
            "|             salty| 4856|\n",
            "|           unknown| 1876|\n",
            "|             milky|  804|\n",
            "|          coloured|  490|\n",
            "|   salty abandoned|  339|\n",
            "|          fluoride|  200|\n",
            "|fluoride abandoned|   17|\n",
            "+------------------+-----+\n",
            "\n"
          ]
        }
      ],
      "source": [
        "data.groupby('water_quality').count().orderBy('count',ascending=False).show()"
      ]
    },
    {
      "cell_type": "code",
      "execution_count": 115,
      "metadata": {
        "id": "rtu2cMrKyIFk"
      },
      "outputs": [],
      "source": [
        "data = data.drop('recorded_by')"
      ]
    },
    {
      "cell_type": "code",
      "execution_count": 116,
      "metadata": {
        "id": "VOj2f4fxmdQ1",
        "colab": {
          "base_uri": "https://localhost:8080/"
        },
        "outputId": "d77fedaa-1dac-4dec-bbaf-fe9613309475"
      },
      "outputs": [
        {
          "output_type": "stream",
          "name": "stdout",
          "text": [
            "+--------------------+---------+-------------+------+---------+------+--------+-----------+-------+--------+--------+-----+--------+-------+-------+---------+--------+---------+---------+--------+------+--------+\n",
            "|        status_group|   Arusha|Dar es Salaam|Dodoma|   Iringa|Kagera|  Kigoma|Kilimanjaro|  Lindi| Manyara|    Mara|Mbeya|Morogoro| Mtwara| Mwanza|    Pwani|   Rukwa|   Ruvuma|Shinyanga| Singida|Tabora|   Tanga|\n",
            "+--------------------+---------+-------------+------+---------+------+--------+-----------+-------+--------+--------+-----+--------+-------+-------+---------+--------+---------+---------+--------+------+--------+\n",
            "|functional needs ...|  10280.0|          0.0|   0.0| 118400.0|   0.0|270770.0|   129248.0| 3625.0| 71315.0|   900.0|  0.0| 70005.0|36240.0|10000.0|    520.0|292980.0| 125650.0|   2200.0|  6505.0|   0.0|  4310.0|\n",
            "|          functional|1125485.0|     181175.0|   0.0|5515710.0|   0.0|530725.0|  746942.25|24560.0|312745.0| 96786.0|  0.0|587642.0|52710.0|33550.0|1567765.0|776025.0|1827983.0|  53000.0|863415.0|   0.0|600931.0|\n",
            "|      non functional|  73330.0|       9374.0|   0.0| 752295.0|   0.0|177510.0|   248454.4|15730.0| 31420.0|116700.0|  0.0|184120.0|14096.0| 4500.0| 160560.0|416830.0| 414669.0|   1000.0| 74510.2|   0.0|123237.0|\n",
            "+--------------------+---------+-------------+------+---------+------+--------+-----------+-------+--------+--------+-----+--------+-------+-------+---------+--------+---------+---------+--------+------+--------+\n",
            "\n"
          ]
        }
      ],
      "source": [
        "data.groupBy('status_group').pivot('region').sum('amount_tsh').show()"
      ]
    },
    {
      "cell_type": "code",
      "source": [
        "data.printSchema()"
      ],
      "metadata": {
        "colab": {
          "base_uri": "https://localhost:8080/"
        },
        "id": "ydMReOnfzW9b",
        "outputId": "83624eec-6b9a-4989-dfa2-93049da15705"
      },
      "execution_count": 117,
      "outputs": [
        {
          "output_type": "stream",
          "name": "stdout",
          "text": [
            "root\n",
            " |-- id: integer (nullable = true)\n",
            " |-- amount_tsh: double (nullable = true)\n",
            " |-- date_recorded: string (nullable = true)\n",
            " |-- funder: string (nullable = true)\n",
            " |-- gps_height: integer (nullable = true)\n",
            " |-- installer: string (nullable = true)\n",
            " |-- longitude: double (nullable = true)\n",
            " |-- latitude: double (nullable = true)\n",
            " |-- wpt_name: string (nullable = true)\n",
            " |-- num_private: integer (nullable = true)\n",
            " |-- basin: string (nullable = true)\n",
            " |-- subvillage: string (nullable = true)\n",
            " |-- region: string (nullable = true)\n",
            " |-- region_code: integer (nullable = true)\n",
            " |-- district_code: string (nullable = true)\n",
            " |-- lga: string (nullable = true)\n",
            " |-- ward: string (nullable = true)\n",
            " |-- population: integer (nullable = true)\n",
            " |-- public_meeting: boolean (nullable = true)\n",
            " |-- scheme_management: string (nullable = true)\n",
            " |-- scheme_name: string (nullable = true)\n",
            " |-- permit: boolean (nullable = true)\n",
            " |-- construction_year: integer (nullable = true)\n",
            " |-- extraction_type: string (nullable = true)\n",
            " |-- extraction_type_group: string (nullable = true)\n",
            " |-- extraction_type_class: string (nullable = true)\n",
            " |-- management: string (nullable = true)\n",
            " |-- management_group: string (nullable = true)\n",
            " |-- payment: string (nullable = true)\n",
            " |-- payment_type: string (nullable = true)\n",
            " |-- water_quality: string (nullable = true)\n",
            " |-- quality_group: string (nullable = true)\n",
            " |-- quantity: string (nullable = true)\n",
            " |-- quantity_group: string (nullable = true)\n",
            " |-- source: string (nullable = true)\n",
            " |-- source_type: string (nullable = true)\n",
            " |-- source_class: string (nullable = true)\n",
            " |-- waterpoint_type: string (nullable = true)\n",
            " |-- waterpoint_type_group: string (nullable = true)\n",
            " |-- status_group: string (nullable = true)\n",
            "\n"
          ]
        }
      ]
    },
    {
      "cell_type": "markdown",
      "metadata": {
        "id": "Sx78CSn9HJDx"
      },
      "source": [
        "Task 5 - Convert categories with low frequency to Others, impute missing values. If you are disconnected, please run the previous cells by clicking on this cell, going to Runtime, then clicking Run before."
      ]
    },
    {
      "cell_type": "code",
      "execution_count": 118,
      "metadata": {
        "id": "3uPpQBZ3CAVc",
        "colab": {
          "base_uri": "https://localhost:8080/"
        },
        "outputId": "4b166c39-5304-4356-868b-c713fff0d393"
      },
      "outputs": [
        {
          "output_type": "execute_result",
          "data": {
            "text/plain": [
              "['id',\n",
              " 'amount_tsh',\n",
              " 'date_recorded',\n",
              " 'funder',\n",
              " 'gps_height',\n",
              " 'installer',\n",
              " 'longitude',\n",
              " 'latitude',\n",
              " 'wpt_name',\n",
              " 'num_private',\n",
              " 'basin',\n",
              " 'subvillage',\n",
              " 'region',\n",
              " 'region_code',\n",
              " 'district_code',\n",
              " 'lga',\n",
              " 'ward',\n",
              " 'population',\n",
              " 'public_meeting',\n",
              " 'scheme_management',\n",
              " 'scheme_name',\n",
              " 'permit',\n",
              " 'construction_year',\n",
              " 'extraction_type',\n",
              " 'extraction_type_group',\n",
              " 'extraction_type_class',\n",
              " 'management',\n",
              " 'management_group',\n",
              " 'payment',\n",
              " 'payment_type',\n",
              " 'water_quality',\n",
              " 'quality_group',\n",
              " 'quantity',\n",
              " 'quantity_group',\n",
              " 'source',\n",
              " 'source_type',\n",
              " 'source_class',\n",
              " 'waterpoint_type',\n",
              " 'waterpoint_type_group',\n",
              " 'status_group']"
            ]
          },
          "metadata": {},
          "execution_count": 118
        }
      ],
      "source": [
        "data.columns"
      ]
    },
    {
      "cell_type": "code",
      "source": [
        "value_cat = data.groupBy(data.columns[0]).count().collect()"
      ],
      "metadata": {
        "id": "m62mgA1K0zZ_"
      },
      "execution_count": 119,
      "outputs": []
    },
    {
      "cell_type": "code",
      "source": [
        "value_cat[0][1]"
      ],
      "metadata": {
        "colab": {
          "base_uri": "https://localhost:8080/"
        },
        "id": "U_Q1VWhT03oJ",
        "outputId": "fbf708b8-eea7-427c-ffdc-9fed26d2dad2"
      },
      "execution_count": 120,
      "outputs": [
        {
          "output_type": "execute_result",
          "data": {
            "text/plain": [
              "1"
            ]
          },
          "metadata": {},
          "execution_count": 120
        }
      ]
    },
    {
      "cell_type": "code",
      "execution_count": 121,
      "metadata": {
        "id": "eXilO8LqByNa",
        "colab": {
          "base_uri": "https://localhost:8080/"
        },
        "outputId": "09bee381-ca66-435c-a95b-4cc1f063ee9b"
      },
      "outputs": [
        {
          "output_type": "stream",
          "name": "stdout",
          "text": [
            "+------+-----+\n",
            "|    id|count|\n",
            "+------+-----+\n",
            "|Others|59400|\n",
            "+------+-----+\n",
            "\n",
            "+----------+-----+\n",
            "|amount_tsh|count|\n",
            "+----------+-----+\n",
            "|       0.0|41639|\n",
            "|    Others| 8016|\n",
            "|     500.0| 3102|\n",
            "|      50.0| 2472|\n",
            "|    1000.0| 1488|\n",
            "|      20.0| 1463|\n",
            "|     200.0| 1220|\n",
            "+----------+-----+\n",
            "\n",
            "+-------------+-----+\n",
            "|date_recorded|count|\n",
            "+-------------+-----+\n",
            "|       Others|59400|\n",
            "+-------------+-----+\n",
            "\n",
            "+--------------------+-----+\n",
            "|              funder|count|\n",
            "+--------------------+-----+\n",
            "|              Others|35052|\n",
            "|Government Of Tan...| 9084|\n",
            "|                null| 3635|\n",
            "|              Danida| 3114|\n",
            "|              Hesawa| 2202|\n",
            "|               Rwssp| 1374|\n",
            "|          World Bank| 1349|\n",
            "|                Kkkt| 1287|\n",
            "|        World Vision| 1246|\n",
            "|              Unicef| 1057|\n",
            "+--------------------+-----+\n",
            "\n",
            "+----------+-----+\n",
            "|gps_height|count|\n",
            "+----------+-----+\n",
            "|    Others|38962|\n",
            "|         0|20438|\n",
            "+----------+-----+\n",
            "\n",
            "+----------+-----+\n",
            "| installer|count|\n",
            "+----------+-----+\n",
            "|    Others|33202|\n",
            "|       DWE|17402|\n",
            "|      null| 3655|\n",
            "|Government| 1825|\n",
            "|       RWE| 1206|\n",
            "|     Commu| 1060|\n",
            "|    DANIDA| 1050|\n",
            "+----------+-----+\n",
            "\n",
            "+---------+-----+\n",
            "|longitude|count|\n",
            "+---------+-----+\n",
            "|   Others|57588|\n",
            "|      0.0| 1812|\n",
            "+---------+-----+\n",
            "\n",
            "+--------+-----+\n",
            "|latitude|count|\n",
            "+--------+-----+\n",
            "|  Others|57588|\n",
            "| -2.0E-8| 1812|\n",
            "+--------+-----+\n",
            "\n",
            "+--------+-----+\n",
            "|wpt_name|count|\n",
            "+--------+-----+\n",
            "|  Others|54089|\n",
            "|    none| 3563|\n",
            "| Shuleni| 1748|\n",
            "+--------+-----+\n",
            "\n",
            "+-----------+-----+\n",
            "|num_private|count|\n",
            "+-----------+-----+\n",
            "|          0|58643|\n",
            "|     Others|  757|\n",
            "+-----------+-----+\n",
            "\n",
            "+--------------------+-----+\n",
            "|               basin|count|\n",
            "+--------------------+-----+\n",
            "|       Lake Victoria|10248|\n",
            "|             Pangani| 8940|\n",
            "|              Rufiji| 7976|\n",
            "|            Internal| 7785|\n",
            "|     Lake Tanganyika| 6432|\n",
            "|         Wami / Ruvu| 5987|\n",
            "|          Lake Nyasa| 5085|\n",
            "|Ruvuma / Southern...| 4493|\n",
            "|          Lake Rukwa| 2454|\n",
            "+--------------------+-----+\n",
            "\n",
            "+----------+-----+\n",
            "|subvillage|count|\n",
            "+----------+-----+\n",
            "|    Others|59029|\n",
            "|      null|  371|\n",
            "+----------+-----+\n",
            "\n",
            "+-----------+-----+\n",
            "|     region|count|\n",
            "+-----------+-----+\n",
            "|     Iringa| 5294|\n",
            "|  Shinyanga| 4982|\n",
            "|      Mbeya| 4639|\n",
            "|Kilimanjaro| 4379|\n",
            "|   Morogoro| 4006|\n",
            "|     Arusha| 3350|\n",
            "|     Kagera| 3316|\n",
            "|     Mwanza| 3102|\n",
            "|     Kigoma| 2816|\n",
            "|     Ruvuma| 2640|\n",
            "|      Pwani| 2635|\n",
            "|      Tanga| 2547|\n",
            "|     Dodoma| 2201|\n",
            "|    Singida| 2093|\n",
            "|       Mara| 1969|\n",
            "|     Tabora| 1959|\n",
            "|      Rukwa| 1808|\n",
            "|     Mtwara| 1730|\n",
            "|    Manyara| 1583|\n",
            "|      Lindi| 1546|\n",
            "+-----------+-----+\n",
            "only showing top 20 rows\n",
            "\n",
            "+-----------+-----+\n",
            "|region_code|count|\n",
            "+-----------+-----+\n",
            "|         11| 5300|\n",
            "|         17| 5011|\n",
            "|         12| 4639|\n",
            "|          3| 4379|\n",
            "|          5| 4040|\n",
            "|         18| 3324|\n",
            "|     Others| 3162|\n",
            "|         19| 3047|\n",
            "|          2| 3024|\n",
            "|         16| 2816|\n",
            "|         10| 2640|\n",
            "|          4| 2513|\n",
            "|          1| 2201|\n",
            "|         13| 2093|\n",
            "|         14| 1979|\n",
            "|         20| 1969|\n",
            "|         15| 1808|\n",
            "|          6| 1609|\n",
            "|         21| 1583|\n",
            "|         80| 1238|\n",
            "+-----------+-----+\n",
            "only showing top 20 rows\n",
            "\n",
            "+-------------+-----+\n",
            "|district_code|count|\n",
            "+-------------+-----+\n",
            "|            1|12203|\n",
            "|            2|11173|\n",
            "|            3| 9998|\n",
            "|            4| 8999|\n",
            "|            5| 4356|\n",
            "|       Others| 4211|\n",
            "|            6| 4074|\n",
            "|            7| 3343|\n",
            "|            8| 1043|\n",
            "+-------------+-----+\n",
            "\n",
            "+------------+-----+\n",
            "|         lga|count|\n",
            "+------------+-----+\n",
            "|      Others|47927|\n",
            "|      Njombe| 2503|\n",
            "|Arusha Rural| 1252|\n",
            "| Moshi Rural| 1251|\n",
            "|     Bariadi| 1177|\n",
            "|      Rungwe| 1106|\n",
            "|      Kilosa| 1094|\n",
            "|      Kasulu| 1047|\n",
            "|       Mbozi| 1034|\n",
            "|        Meru| 1009|\n",
            "+------------+-----+\n",
            "\n",
            "+------+-----+\n",
            "|  ward|count|\n",
            "+------+-----+\n",
            "|Others|59400|\n",
            "+------+-----+\n",
            "\n",
            "+----------+-----+\n",
            "|population|count|\n",
            "+----------+-----+\n",
            "|         0|21381|\n",
            "|    Others|20711|\n",
            "|         1| 7025|\n",
            "|       200| 1940|\n",
            "|       150| 1892|\n",
            "|       250| 1681|\n",
            "|       300| 1476|\n",
            "|       100| 1146|\n",
            "|        50| 1139|\n",
            "|       500| 1009|\n",
            "+----------+-----+\n",
            "\n",
            "Unable to process your query dude!!\n",
            "+-----------------+-----+\n",
            "|scheme_management|count|\n",
            "+-----------------+-----+\n",
            "|              VWC|36793|\n",
            "|              WUG| 5206|\n",
            "|             null| 3877|\n",
            "|  Water authority| 3153|\n",
            "|              WUA| 2883|\n",
            "|      Water Board| 2748|\n",
            "|       Parastatal| 1680|\n",
            "| Private operator| 1063|\n",
            "|          Company| 1061|\n",
            "|           Others|  936|\n",
            "+-----------------+-----+\n",
            "\n",
            "+-----------+-----+\n",
            "|scheme_name|count|\n",
            "+-----------+-----+\n",
            "|     Others|31234|\n",
            "|       null|28166|\n",
            "+-----------+-----+\n",
            "\n",
            "Unable to process your query dude!!\n",
            "+-----------------+-----+\n",
            "|construction_year|count|\n",
            "+-----------------+-----+\n",
            "|                0|20709|\n",
            "|           Others|16865|\n",
            "|             2010| 2645|\n",
            "|             2008| 2613|\n",
            "|             2009| 2533|\n",
            "|             2000| 2091|\n",
            "|             2007| 1587|\n",
            "|             2006| 1471|\n",
            "|             2003| 1286|\n",
            "|             2011| 1256|\n",
            "|             2004| 1123|\n",
            "|             2012| 1084|\n",
            "|             2002| 1075|\n",
            "|             1978| 1037|\n",
            "|             1995| 1014|\n",
            "|             2005| 1011|\n",
            "+-----------------+-----+\n",
            "\n",
            "+---------------+-----+\n",
            "|extraction_type|count|\n",
            "+---------------+-----+\n",
            "|        gravity|26780|\n",
            "|    nira/tanira| 8154|\n",
            "|          other| 6430|\n",
            "|    submersible| 4764|\n",
            "|         swn 80| 3670|\n",
            "|           mono| 2865|\n",
            "|  india mark ii| 2400|\n",
            "|        afridev| 1770|\n",
            "|            ksb| 1415|\n",
            "|         Others| 1152|\n",
            "+---------------+-----+\n",
            "\n",
            "+---------------------+-----+\n",
            "|extraction_type_group|count|\n",
            "+---------------------+-----+\n",
            "|              gravity|26780|\n",
            "|          nira/tanira| 8154|\n",
            "|                other| 6430|\n",
            "|          submersible| 6179|\n",
            "|               swn 80| 3670|\n",
            "|                 mono| 2865|\n",
            "|        india mark ii| 2400|\n",
            "|              afridev| 1770|\n",
            "|               Others| 1152|\n",
            "+---------------------+-----+\n",
            "\n",
            "+---------------------+-----+\n",
            "|extraction_type_class|count|\n",
            "+---------------------+-----+\n",
            "|              gravity|26780|\n",
            "|             handpump|16456|\n",
            "|                other| 6430|\n",
            "|          submersible| 6179|\n",
            "|            motorpump| 2987|\n",
            "|               Others|  568|\n",
            "+---------------------+-----+\n",
            "\n",
            "+----------------+-----+\n",
            "|      management|count|\n",
            "+----------------+-----+\n",
            "|             vwc|40507|\n",
            "|             wug| 6515|\n",
            "|          Others| 3171|\n",
            "|     water board| 2933|\n",
            "|             wua| 2535|\n",
            "|private operator| 1971|\n",
            "|      parastatal| 1768|\n",
            "+----------------+-----+\n",
            "\n",
            "+----------------+-----+\n",
            "|management_group|count|\n",
            "+----------------+-----+\n",
            "|      user-group|52490|\n",
            "|      commercial| 3638|\n",
            "|      parastatal| 1768|\n",
            "|          Others| 1504|\n",
            "+----------------+-----+\n",
            "\n",
            "+--------------------+-----+\n",
            "|             payment|count|\n",
            "+--------------------+-----+\n",
            "|           never pay|25348|\n",
            "|      pay per bucket| 8985|\n",
            "|         pay monthly| 8300|\n",
            "|             unknown| 8157|\n",
            "|pay when scheme f...| 3914|\n",
            "|        pay annually| 3642|\n",
            "|               other| 1054|\n",
            "+--------------------+-----+\n",
            "\n",
            "+------------+-----+\n",
            "|payment_type|count|\n",
            "+------------+-----+\n",
            "|   never pay|25348|\n",
            "|  per bucket| 8985|\n",
            "|     monthly| 8300|\n",
            "|     unknown| 8157|\n",
            "|  on failure| 3914|\n",
            "|    annually| 3642|\n",
            "|       other| 1054|\n",
            "+------------+-----+\n",
            "\n",
            "+-------------+-----+\n",
            "|water_quality|count|\n",
            "+-------------+-----+\n",
            "|         soft|50818|\n",
            "|        salty| 4856|\n",
            "|      unknown| 1876|\n",
            "|       Others| 1850|\n",
            "+-------------+-----+\n",
            "\n",
            "+-------------+-----+\n",
            "|quality_group|count|\n",
            "+-------------+-----+\n",
            "|         good|50818|\n",
            "|        salty| 5195|\n",
            "|      unknown| 1876|\n",
            "|       Others| 1511|\n",
            "+-------------+-----+\n",
            "\n",
            "+------------+-----+\n",
            "|    quantity|count|\n",
            "+------------+-----+\n",
            "|      enough|33186|\n",
            "|insufficient|15129|\n",
            "|         dry| 6246|\n",
            "|    seasonal| 4050|\n",
            "|      Others|  789|\n",
            "+------------+-----+\n",
            "\n",
            "+--------------+-----+\n",
            "|quantity_group|count|\n",
            "+--------------+-----+\n",
            "|        enough|33186|\n",
            "|  insufficient|15129|\n",
            "|           dry| 6246|\n",
            "|      seasonal| 4050|\n",
            "|        Others|  789|\n",
            "+--------------+-----+\n",
            "\n",
            "+--------------------+-----+\n",
            "|              source|count|\n",
            "+--------------------+-----+\n",
            "|              spring|17021|\n",
            "|        shallow well|16824|\n",
            "|         machine dbh|11075|\n",
            "|               river| 9612|\n",
            "|              Others| 2573|\n",
            "|rainwater harvesting| 2295|\n",
            "+--------------------+-----+\n",
            "\n",
            "+--------------------+-----+\n",
            "|         source_type|count|\n",
            "+--------------------+-----+\n",
            "|              spring|17021|\n",
            "|        shallow well|16824|\n",
            "|            borehole|11949|\n",
            "|          river/lake|10377|\n",
            "|rainwater harvesting| 2295|\n",
            "|              Others|  934|\n",
            "+--------------------+-----+\n",
            "\n",
            "+------------+-----+\n",
            "|source_class|count|\n",
            "+------------+-----+\n",
            "| groundwater|45794|\n",
            "|     surface|13328|\n",
            "|      Others|  278|\n",
            "+------------+-----+\n",
            "\n",
            "+--------------------+-----+\n",
            "|     waterpoint_type|count|\n",
            "+--------------------+-----+\n",
            "|  communal standpipe|28522|\n",
            "|           hand pump|17488|\n",
            "|               other| 6380|\n",
            "|communal standpip...| 6103|\n",
            "|              Others|  907|\n",
            "+--------------------+-----+\n",
            "\n",
            "+---------------------+-----+\n",
            "|waterpoint_type_group|count|\n",
            "+---------------------+-----+\n",
            "|   communal standpipe|34625|\n",
            "|            hand pump|17488|\n",
            "|                other| 6380|\n",
            "|               Others|  907|\n",
            "+---------------------+-----+\n",
            "\n",
            "+--------------------+-----+\n",
            "|        status_group|count|\n",
            "+--------------------+-----+\n",
            "|          functional|32259|\n",
            "|      non functional|22824|\n",
            "|functional needs ...| 4317|\n",
            "+--------------------+-----+\n",
            "\n"
          ]
        }
      ],
      "source": [
        "import pyspark.sql.utils\n",
        "for column in data.columns:\n",
        "  try:\n",
        "    value_cat = data.groupBy(column).count().collect()\n",
        "    lessthan = [x[0] for x in value_cat if x[1]< 1000]\n",
        "    datanews = data.withColumn(column,when(col(column).isin(lessthan),'Others').otherwise(col(column)))\n",
        "    datanews.groupBy(column).count().orderBy('count',ascending=False).show()\n",
        "  except pyspark.sql.utils.AnalysisException:\n",
        "    print(\"Unable to process your query dude!!\")\n"
      ]
    },
    {
      "cell_type": "code",
      "execution_count": 122,
      "metadata": {
        "id": "DuUSjKOd4nGX",
        "colab": {
          "base_uri": "https://localhost:8080/"
        },
        "outputId": "398335f2-b164-4dcd-d2ba-eb907f462499"
      },
      "outputs": [
        {
          "output_type": "stream",
          "name": "stdout",
          "text": [
            "+----------+-----+\n",
            "|population|count|\n",
            "+----------+-----+\n",
            "|         0|21381|\n",
            "|         1| 7025|\n",
            "|         2|    4|\n",
            "|         3|    4|\n",
            "|         4|   13|\n",
            "|         5|   44|\n",
            "|         6|   19|\n",
            "|         7|    3|\n",
            "|         8|   23|\n",
            "|         9|   11|\n",
            "|        10|  163|\n",
            "|        11|    7|\n",
            "|        12|   43|\n",
            "|        13|   12|\n",
            "|        14|   18|\n",
            "|        15|  193|\n",
            "|        16|    8|\n",
            "|        17|    6|\n",
            "|        18|   18|\n",
            "|        19|    3|\n",
            "+----------+-----+\n",
            "only showing top 20 rows\n",
            "\n"
          ]
        }
      ],
      "source": [
        "data.groupBy('population').count().orderBy('population').show()"
      ]
    },
    {
      "cell_type": "code",
      "source": [
        "from pyspark.sql.functions import lit\n",
        "data = data.withColumn('population',when(col('population')<2,lit(None)).otherwise(col('population')))"
      ],
      "metadata": {
        "id": "ijizXo663NO4"
      },
      "execution_count": 123,
      "outputs": []
    },
    {
      "cell_type": "code",
      "source": [
        "data.show()"
      ],
      "metadata": {
        "colab": {
          "base_uri": "https://localhost:8080/"
        },
        "id": "q76uGtTt46LP",
        "outputId": "ed974015-b1b5-49b4-dd6b-1e56fa361ac0"
      },
      "execution_count": 124,
      "outputs": [
        {
          "output_type": "stream",
          "name": "stdout",
          "text": [
            "+-----+----------+-------------+--------------------+----------+-------------------+-----------+-------------------+-----------------+-----------+--------------------+------------+-----------+-----------+-------------+----------------+---------+----------+--------------+-----------------+--------------------+------+-----------------+---------------+---------------------+---------------------+----------+----------------+--------------------+------------+-------------+-------------+------------+--------------+--------------------+--------------------+------------+--------------------+---------------------+--------------------+\n",
            "|   id|amount_tsh|date_recorded|              funder|gps_height|          installer|  longitude|           latitude|         wpt_name|num_private|               basin|  subvillage|     region|region_code|district_code|             lga|     ward|population|public_meeting|scheme_management|         scheme_name|permit|construction_year|extraction_type|extraction_type_group|extraction_type_class|management|management_group|             payment|payment_type|water_quality|quality_group|    quantity|quantity_group|              source|         source_type|source_class|     waterpoint_type|waterpoint_type_group|        status_group|\n",
            "+-----+----------+-------------+--------------------+----------+-------------------+-----------+-------------------+-----------------+-----------+--------------------+------------+-----------+-----------+-------------+----------------+---------+----------+--------------+-----------------+--------------------+------+-----------------+---------------+---------------------+---------------------+----------+----------------+--------------------+------------+-------------+-------------+------------+--------------+--------------------+--------------------+------------+--------------------+---------------------+--------------------+\n",
            "|51058|       0.0|   2013-01-21|African Developme...|      1645|                DWE|29.74706567|        -4.49556758|          Kamsasa|          0|     Lake Tanganyika|       Msasa|     Kigoma|         16|            3|    Kigoma Rural|    Mkigo|       156|         false|              VWC|  Quick wins Program|  true|             2009|        gravity|              gravity|              gravity|       vwc|      user-group|             unknown|     unknown|         soft|         good|      enough|        enough|              spring|              spring| groundwater|     improved spring|      improved spring|          functional|\n",
            "|30423|       0.0|   2012-10-18|                Ifad|      1185|               IFAD|34.19057512|        -1.60969058|          Shuleni|          0|       Lake Victoria|       Shule|       Mara|         20|            3|    Musoma Rural|Buswahili|       544|          null|       Parastatal|                null| false|             2002|        gravity|              gravity|              gravity|parastatal|      parastatal|             unknown|     unknown|         soft|         good|      enough|        enough|rainwater harvesting|rainwater harvesting|     surface|           hand pump|            hand pump|      non functional|\n",
            "|40808|       0.0|   2013-02-01|           Fin Water|       334|          FIN WATER|38.69103275|       -10.87666127|Kwa Zena Rajabu 2|          0|Ruvuma / Southern...|Bombambili 2|     Mtwara|         90|           63|        Nanyumbu| Maratani|        36|          true|              VWC|                null|  true|             1978|    nira/tanira|          nira/tanira|             handpump|       vwc|      user-group|           never pay|   never pay|        salty|        salty|         dry|           dry|        shallow well|        shallow well| groundwater|           hand pump|            hand pump|      non functional|\n",
            "|65238|       0.0|   2013-02-11|Government Of Tan...|      1549|         Government|34.67761089|        -5.04209532|         Zahanati|          0|            Internal|   Ufantamie|    Singida|         13|            2|   Singida Rural|   Ihanja|      null|          null|             null|                null|  true|             2010|           mono|                 mono|            motorpump|   unknown|         unknown|             unknown|     unknown|      unknown|      unknown|     unknown|       unknown|         machine dbh|            borehole| groundwater|  communal standpipe|   communal standpipe|functional needs ...|\n",
            "|48007|       0.0|   2013-03-01|Government Of Tan...|      1177|         Government|37.04899808|        -5.84463878|      Ngutu Naabo|          0|         Wami / Ruvu|     Mtarudi|    Manyara|         21|            5|          Kiteto|    Sunya|      null|          true|              VWC|                null|  true|             2008|          other|                other|                other|       vwc|      user-group|           never pay|   never pay|         soft|         good|    seasonal|      seasonal|            hand dtw|            borehole| groundwater|               other|                other|      non functional|\n",
            "|26851|       0.0|   2011-03-20|              Sabemo|      1665|          Chamavita|38.34557798|-4.7494209000000005|     Kwa Mzee Sau|          6|             Pangani| Kwemkangala|      Tanga|          4|            1|         Lushoto|     Kwai|      null|          true|              VWC|     Mangamba forest|  true|             2000|        gravity|              gravity|              gravity|       vwc|      user-group|           never pay|   never pay|         soft|         good|      enough|        enough|              spring|              spring| groundwater|  communal standpipe|   communal standpipe|          functional|\n",
            "|68493|       0.0|   2013-03-07|Government Of Tan...|      1452|   District council|37.60550564|        -3.27796788|      Kwa Maadabu|          0|             Pangani|      Kaseni|Kilimanjaro|          3|            1|           Rombo|  Mamsera|      null|          true|          Company|  Hakwe water supply|  true|             1980|        gravity|              gravity|              gravity|   company|      commercial|         pay monthly|     monthly|         soft|         good|insufficient|  insufficient|              spring|              spring| groundwater|  communal standpipe|   communal standpipe|      non functional|\n",
            "|17219|       0.0|   2013-08-03|Government Of Tan...|       529|         Government|38.05373317|        -4.27929971|      Kwa Mkaduma|          0|             Pangani|     Kizerui|Kilimanjaro|          3|            3|            Same|    Maore|       230|          true|  Water authority|           Hingilili|  true|             1967|        gravity|              gravity|              gravity|       vwc|      user-group|           never pay|   never pay|         soft|         good|      enough|        enough|               river|          river/lake|     surface|communal standpip...|   communal standpipe|      non functional|\n",
            "|34823|     500.0|   2013-02-25|               Tasaf|       666|CJEJOW CONSTRUCTION|36.19342106|       -11.30755506| Kwa Saidi Halifa|          0|Ruvuma / Southern...|    Mchomoro|     Ruvuma|         10|            5|        Namtumbo|   Lusewa|       300|          true|              WUG|                null| false|             2007|         swn 80|               swn 80|             handpump|       wug|      user-group|         pay monthly|     monthly|         soft|         good|insufficient|  insufficient|        shallow well|        shallow well| groundwater|           hand pump|            hand pump|          functional|\n",
            "|20205|       0.0|   2013-02-08|Government Of Tan...|       173|                DWE|39.03320791|        -8.54965789|       Chagueni 1|          0|Ruvuma / Southern...|     Chumo B|      Lindi|         80|           13|           Kilwa|    Chumo|       285|          true|             null|                null|  true|             1979|          other|                other|                other|       vwc|      user-group|           never pay|   never pay|        salty|        salty|      enough|        enough|        shallow well|        shallow well| groundwater|               other|                other|      non functional|\n",
            "|27291|       0.0|   2013-01-17|               Rwssp|         0|                DWE| 32.4840343|        -3.31813257|      Imarabupina|          0|     Lake Tanganyika|     Nduhani|  Shinyanga|         17|            3|          Kahama| Bugarama|      null|          true|             null|                null|  true|                0|    nira/tanira|          nira/tanira|             handpump|       wug|      user-group|             unknown|     unknown|        milky|        milky|         dry|           dry|        shallow well|        shallow well| groundwater|           hand pump|            hand pump|      non functional|\n",
            "|71813|       0.0|   2011-08-22|               Tasaf|      1741|                DWE|31.70184892|        -8.59109049|Kwa Eliza Kalunga|          0|          Lake Rukwa|   Delengoma|      Rukwa|         15|            2|Sumbawanga Rural|   Mwimbi|       250|          true|              VWC|                null| false|             2003|         swn 80|               swn 80|             handpump|       vwc|      user-group|           never pay|   never pay|         soft|         good|      enough|        enough|         machine dbh|            borehole| groundwater|           hand pump|            hand pump|      non functional|\n",
            "|18193|       0.0|   2011-03-10|          World Bank|         0|               Nice|36.34203584|        -6.15509141|      Kwa Charles|          0|         Wami / Ruvu|        null|     Dodoma|          1|            3|          Kongwa|   Sejeli|      null|          true|              VWC|                Manu|  true|                0|    submersible|          submersible|          submersible|       vwc|      user-group|      pay per bucket|  per bucket|        salty|        salty|      enough|        enough|         machine dbh|            borehole| groundwater|communal standpip...|   communal standpipe|          functional|\n",
            "|60543|       0.0|   2011-07-06|                null|         0|               null|33.62682474|        -9.21617892| Kwa Mh Mwandosya|          0|          Lake Nyasa|    Kiangala|      Mbeya|         12|            4|          Rungwe|    Kyimo|      null|          true|              VWC|                   M|  null|                0|        gravity|              gravity|              gravity|       vwc|      user-group|           never pay|   never pay|         soft|         good|      enough|        enough|              spring|              spring| groundwater|  communal standpipe|   communal standpipe|          functional|\n",
            "|52311|       0.0|   2013-01-22|                null|      1474|               null|34.52327131|        -4.75628793|          Mbugani|          0|            Internal|    M/Kusini|    Singida|         13|            2|   Singida Rural|   Sepuko|      null|          true|              VWC|                null|  null|             1990|          other|                other|                other|       vwc|      user-group|             unknown|     unknown|      unknown|      unknown|         dry|           dry|        shallow well|        shallow well| groundwater|               other|                other|      non functional|\n",
            "|60700|     100.0|   2013-02-22|        Robert Loyal|      1106|       World vision|37.15385438|        -3.56823048|          Oldonyo|          0|             Pangani|     Oldonyo|    Manyara|         21|            4|       Simanjiro| Mererani|       200|          true|              VWC|Kambi ya chokaa p...|  true|             2006|        gravity|              gravity|              gravity|       vwc|      user-group|      pay per bucket|  per bucket|         soft|         good|      enough|        enough|         machine dbh|            borehole| groundwater|  communal standpipe|   communal standpipe|          functional|\n",
            "|27921|       0.0|   2011-03-16|           Chamavita|      1888|          Chamavita|38.26614807| -4.637697900000001| Kwa John Kanyama|         17|             Pangani|    Kibandai|      Tanga|          4|            1|         Lushoto|  Malindi|      null|          true|              VWC|     Chambogo forest|  true|             1998|        gravity|              gravity|              gravity|       vwc|      user-group|           never pay|   never pay|         soft|         good|      enough|        enough|              spring|              spring| groundwater|  communal standpipe|   communal standpipe|      non functional|\n",
            "|27907|       0.0|   2011-03-05|            Semaki K|       323|                DWE|35.85156804|        -8.72674928|        Kwamponzi|          0|              Rufiji|      Ngwasi|   Morogoro|          5|            3|       Kilombero|   Mlimba|       100|          true|              VWC|                null|  true|             2002|    nira/tanira|          nira/tanira|             handpump|       vwc|      user-group|           never pay|   never pay|         soft|         good|insufficient|  insufficient|        shallow well|        shallow well| groundwater|           hand pump|            hand pump|      non functional|\n",
            "|46503|       0.0|   2011-06-04|                 Adb|      1802|                DWE|34.77057067|        -9.09392798| Kwa Nebat Magoha|          0|              Rufiji|       Iwawa|     Iringa|         11|            4|          Njombe|   Mdandu|        75|          true|              VWC|itulahumba water ...|  true|             2009|        gravity|              gravity|              gravity|       vwc|      user-group|pay when scheme f...|  on failure|         soft|         good|      enough|        enough|              spring|              spring| groundwater|  communal standpipe|   communal standpipe|          functional|\n",
            "|59482|       0.0|   2011-04-09|                null|         0|               null|34.17940101|        -8.83454873|       Kwa Onesmo|          0|              Rufiji|   Kinawanga|      Mbeya|         12|            7|         Mbarali| Mapogoro|      null|          true|              VWC|                null|  true|                0|        gravity|              gravity|              gravity|       vwc|      user-group|         pay monthly|     monthly|         soft|         good|    seasonal|      seasonal|               river|          river/lake|     surface|  communal standpipe|   communal standpipe|          functional|\n",
            "+-----+----------+-------------+--------------------+----------+-------------------+-----------+-------------------+-----------------+-----------+--------------------+------------+-----------+-----------+-------------+----------------+---------+----------+--------------+-----------------+--------------------+------+-----------------+---------------+---------------------+---------------------+----------+----------------+--------------------+------------+-------------+-------------+------------+--------------+--------------------+--------------------+------------+--------------------+---------------------+--------------------+\n",
            "only showing top 20 rows\n",
            "\n"
          ]
        }
      ]
    },
    {
      "cell_type": "code",
      "source": [
        "from pyspark.sql.window import Window\n",
        "w = Window.partitionBy(data['district_code'])"
      ],
      "metadata": {
        "id": "EUSdT2wO4iHX"
      },
      "execution_count": 125,
      "outputs": []
    },
    {
      "cell_type": "code",
      "source": [
        "from pyspark.sql.functions import avg,ceil\n",
        "data = data.withColumn('population',when(col('population').isNull(),avg(data['population']).over(w)).otherwise(col('population')))"
      ],
      "metadata": {
        "id": "faIH6GV65W8w"
      },
      "execution_count": 126,
      "outputs": []
    },
    {
      "cell_type": "code",
      "source": [
        "data = data.withColumn('population',ceil(data['population']))\n",
        "data.groupBy('population').count().orderBy('population').show()"
      ],
      "metadata": {
        "colab": {
          "base_uri": "https://localhost:8080/"
        },
        "id": "sOH71K8C6NdP",
        "outputId": "604ad6a5-429a-4adb-c77a-ab66fb929e97"
      },
      "execution_count": 127,
      "outputs": [
        {
          "output_type": "stream",
          "name": "stdout",
          "text": [
            "+----------+-----+\n",
            "|population|count|\n",
            "+----------+-----+\n",
            "|      null|   35|\n",
            "|         2|    4|\n",
            "|         3|    4|\n",
            "|         4|   13|\n",
            "|         5|   44|\n",
            "|         6|   19|\n",
            "|         7|    3|\n",
            "|         8|   23|\n",
            "|         9|   11|\n",
            "|        10|  163|\n",
            "|        11|    7|\n",
            "|        12|   43|\n",
            "|        13|   12|\n",
            "|        14|   18|\n",
            "|        15|  193|\n",
            "|        16|    8|\n",
            "|        17|    6|\n",
            "|        18|   18|\n",
            "|        19|    3|\n",
            "|        20|  462|\n",
            "+----------+-----+\n",
            "only showing top 20 rows\n",
            "\n"
          ]
        }
      ]
    },
    {
      "cell_type": "markdown",
      "metadata": {
        "id": "xLHuYRDSHVPr"
      },
      "source": [
        "Task 6 - Make visualizations. If you are disconnected, please run the previous cells by clicking on this cell, going to Runtime, then clicking Run before."
      ]
    },
    {
      "cell_type": "code",
      "execution_count": 128,
      "metadata": {
        "id": "FHnj1SGvHnjt"
      },
      "outputs": [],
      "source": [
        "color_status = {'functional': 'green', 'non functional': 'red', 'functional needs repair': 'blue'}"
      ]
    },
    {
      "cell_type": "code",
      "execution_count": 129,
      "metadata": {
        "id": "12legEn-1bwG"
      },
      "outputs": [],
      "source": [
        "cols =['status_group','payment_type','longitude','latitude','gps_height']\n",
        "df = data.select(cols).toPandas()"
      ]
    },
    {
      "cell_type": "code",
      "execution_count": 130,
      "metadata": {
        "id": "Cii44bJF1iKR",
        "colab": {
          "base_uri": "https://localhost:8080/",
          "height": 560
        },
        "outputId": "f20a1188-3688-48d8-866a-5b49a4515693"
      },
      "outputs": [
        {
          "output_type": "execute_result",
          "data": {
            "text/plain": [
              "(array([0, 1, 2, 3, 4, 5, 6]), <a list of 7 Text major ticklabel objects>)"
            ]
          },
          "metadata": {},
          "execution_count": 130
        },
        {
          "output_type": "display_data",
          "data": {
            "image/png": "[encoded data removed]",
            "text/plain": [
              "<Figure size 864x576 with 1 Axes>"
            ]
          },
          "metadata": {}
        }
      ],
      "source": [
        "import matplotlib.pyplot as plt\n",
        "import seaborn as sns\n",
        "fig,ax =plt.subplots(figsize=(12,8))\n",
        "sns.countplot(x='payment_type',hue='status_group',data=df,ax=ax,palette=color_status)\n",
        "plt.xticks(rotation=45)"
      ]
    },
    {
      "cell_type": "code",
      "source": [
        "fig,ax =plt.subplots(figsize=(12,8))\n",
        "sns.scatterplot(x='longitude',y= 'latitude',hue='status_group',data=df,ax=ax,palette=color_status)"
      ],
      "metadata": {
        "colab": {
          "base_uri": "https://localhost:8080/",
          "height": 520
        },
        "id": "RRzqk-bhEyB6",
        "outputId": "d57f777e-c628-4bba-f513-c3b368ba3c18"
      },
      "execution_count": 133,
      "outputs": [
        {
          "output_type": "execute_result",
          "data": {
            "text/plain": [
              "<matplotlib.axes._subplots.AxesSubplot at 0x7fadf5a2b1d0>"
            ]
          },
          "metadata": {},
          "execution_count": 133
        },
        {
          "output_type": "display_data",
          "data": {
            "image/png": "[encoded data removed]",
            "text/plain": [
              "<Figure size 864x576 with 1 Axes>"
            ]
          },
          "metadata": {}
        }
      ]
    },
    {
      "cell_type": "code",
      "source": [
        "row_functional = (df['status_group'] == 'functional')\n",
        "row_non_functional = (df['status_group'] == 'non functional')\n",
        "row_repair = (df['status_group'] == 'functional needs repair')\n",
        "col ='gps_height'\n",
        "fig,ax =plt.subplots(figsize=(12,8))\n",
        "sns.distplot(df[col][row_functional],color='green',label='functional',ax=ax)\n",
        "sns.distplot(df[col][row_functional],color='red',label='non functional',ax=ax)\n",
        "sns.distplot(df[col][row_functional],color='blue',label='functional needs repair',ax=ax)\n",
        "plt.legend()"
      ],
      "metadata": {
        "colab": {
          "base_uri": "https://localhost:8080/",
          "height": 651
        },
        "id": "5Mo7YebX_dg3",
        "outputId": "9d050f18-e2ee-43b2-b5fe-cc6ca46dd797"
      },
      "execution_count": 131,
      "outputs": [
        {
          "output_type": "stream",
          "name": "stderr",
          "text": [
            "/usr/local/lib/python3.7/dist-packages/seaborn/distributions.py:2619: FutureWarning: `distplot` is a deprecated function and will be removed in a future version. Please adapt your code to use either `displot` (a figure-level function with similar flexibility) or `histplot` (an axes-level function for histograms).\n",
            "  warnings.warn(msg, FutureWarning)\n",
            "/usr/local/lib/python3.7/dist-packages/seaborn/distributions.py:2619: FutureWarning: `distplot` is a deprecated function and will be removed in a future version. Please adapt your code to use either `displot` (a figure-level function with similar flexibility) or `histplot` (an axes-level function for histograms).\n",
            "  warnings.warn(msg, FutureWarning)\n",
            "/usr/local/lib/python3.7/dist-packages/seaborn/distributions.py:2619: FutureWarning: `distplot` is a deprecated function and will be removed in a future version. Please adapt your code to use either `displot` (a figure-level function with similar flexibility) or `histplot` (an axes-level function for histograms).\n",
            "  warnings.warn(msg, FutureWarning)\n"
          ]
        },
        {
          "output_type": "execute_result",
          "data": {
            "text/plain": [
              "<matplotlib.legend.Legend at 0x7fadf45b8b50>"
            ]
          },
          "metadata": {},
          "execution_count": 131
        },
        {
          "output_type": "display_data",
          "data": {
            "image/png": "[encoded data removed]",
            "text/plain": [
              "<Figure size 864x576 with 1 Axes>"
            ]
          },
          "metadata": {}
        }
      ]
    }
  ],
  "metadata": {
    "colab": {
      "collapsed_sections": [],
      "name": "Cleaning and Exploring Big Data using PySpark.ipynb",
      "provenance": []
    },
    "kernelspec": {
      "display_name": "Python 3",
      "language": "python",
      "name": "python3"
    },
    "language_info": {
      "codemirror_mode": {
        "name": "ipython",
        "version": 3
      },
      "file_extension": ".py",
      "mimetype": "text/x-python",
      "name": "python",
      "nbconvert_exporter": "python",
      "pygments_lexer": "ipython3",
      "version": "3.6.9"
    }
  },
  "nbformat": 4,
  "nbformat_minor": 0
}